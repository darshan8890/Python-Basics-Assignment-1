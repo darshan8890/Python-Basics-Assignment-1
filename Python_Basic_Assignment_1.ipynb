{
  "nbformat": 4,
  "nbformat_minor": 0,
  "metadata": {
    "colab": {
      "provenance": []
    },
    "kernelspec": {
      "name": "python3",
      "display_name": "Python 3"
    },
    "language_info": {
      "name": "python"
    }
  },
  "cells": [
    {
      "cell_type": "markdown",
      "source": [
        "# **Python Basic Questions **"
      ],
      "metadata": {
        "id": "P1XMV9SBQ5JO"
      }
    },
    {
      "cell_type": "markdown",
      "source": [
        "1. What is python, and why it is popular?\n",
        "-  Python is a high-level, versatile programming language. It is known for its simplicity and readability. And it has vast libarary ecosystem. It has a huge community support.\n"
      ],
      "metadata": {
        "id": "JMj3LbMiRPUj"
      }
    },
    {
      "cell_type": "markdown",
      "source": [
        "2. What is an interpreter in Python ?\n",
        "- An Interpreter in python is a program that reads and executes the python code line to line. Its translates the code into the machine readable language. And it runs immediately after converting the language. So that is known as Interpreter in Python."
      ],
      "metadata": {
        "id": "FOgVG7JkSxcC"
      }
    },
    {
      "cell_type": "markdown",
      "source": [
        "3. What are pre-defined keyword in Python ?\n",
        "- The pre-defiend keyword in Python are the special words that are reserved by python. We cannot use them as the names for variables, functions, or anything else. For example:\n",
        "       ~if\n",
        "       ~else\n",
        "       ~while\n",
        "       ~class"
      ],
      "metadata": {
        "id": "32J8G8B1UN5b"
      }
    },
    {
      "cell_type": "markdown",
      "source": [
        "4. Can keywords be used as variable names ?\n",
        "- The keywords cannot be used as the variable names in Python because they are already reserved by the python for the specific purposes in the language.\n",
        "So that's why we don't use the keywords as a variables names in Python."
      ],
      "metadata": {
        "id": "GK0-E5RGVNMa"
      }
    },
    {
      "cell_type": "markdown",
      "source": [
        "5. What is mutability in Python ?\n",
        "- The mutablility in Python means whether an object can be changed after it is created.\n",
        "- Mutable Objects (like lists, dictionaries) can be changed.\n",
        "- Immutable Objects (like strings, tuples) cannot be changed.\n",
        "\n",
        "So, that is known as Mutability in Python."
      ],
      "metadata": {
        "id": "vstyQLuiWah3"
      }
    },
    {
      "cell_type": "markdown",
      "source": [
        "6. Why are lists mutable, but tuples are immutable ?\n",
        "- Lists are mutable because as they are meant to be flexible and allowing to add, remove or configure the  elements in the lists. This makes them perfect for the dynamic data storage.\n",
        "\n",
        "- Tuples are immutable to make sure the data integrity and make them faster to access the data, They are often used for fixed collections of item that should not change, like the coordinates ot the configuration data."
      ],
      "metadata": {
        "id": "2SwftoJ-XKzZ"
      }
    },
    {
      "cell_type": "markdown",
      "source": [
        "7. What is difference between \"==\" and \"is\" operator in python ?\n",
        "- The difference between \"==\" and \"is\" in Python is:\n",
        "- \"==\" checks it the two values are equal or not. For example:-\n",
        "\n",
        "```\n",
        "# This is formatted as code\n",
        "a = [1,2,3]\n",
        "b = [1,2,3]\n",
        "print(a == b)\n",
        "```\n",
        "\n",
        "- And \"is\" checks if the two objects are same mermory location. For example:-\n",
        "\n",
        "\n",
        "```\n",
        "# This is formatted as code\n",
        "a = [1,2,3]\n",
        "b = [1,2,3]\n",
        "print(a is b) #The answer will be false because the memory location is different\n",
        "```\n",
        "\n",
        "\n",
        "\n",
        "\n"
      ],
      "metadata": {
        "id": "p38wVUHJYU-w"
      }
    },
    {
      "cell_type": "markdown",
      "source": [
        "8. What are the logical operators in Python ?\n",
        "- The logical operators in Python are:-\n",
        "- \"AND\" = True if both the conditions are true.\n",
        "- \"OR\" = True if at atleast one condition is true.\n",
        "- \"NOT\" = Reverse the condition (True will become false)\n",
        "\n",
        "So, this are known as the logical operator in Python."
      ],
      "metadata": {
        "id": "PDg1a7Uua8b3"
      }
    },
    {
      "cell_type": "markdown",
      "source": [
        "9. What is Type Casting in Python ?\n",
        "- The Type Casting in Python is converting a value from one data type to another. For Example:-\n",
        "\n",
        "\n",
        "```\n",
        "# This is formatted as code\n",
        "x = \"5\"\n",
        "y = int(x)\n",
        "print(y)  #The output will become 5.\n",
        "```\n",
        "- The common type casting functions:- int(), float(), str(), list(), etc.\n",
        "\n"
      ],
      "metadata": {
        "id": "gvvbByOIgN5M"
      }
    },
    {
      "cell_type": "markdown",
      "source": [
        "10. What is difference between implicit and explicit type casting ?\n",
        "- Implicit Type Casting = The Python automatically converts a smaller data type to a larger one, without any need of the programmer to do it explicitly.\n",
        "So, this is known as Implicit Type Casting.\n",
        "\n",
        "- Explicit Type Casting = The programmer manually converts one data type to another using functions like int(), float(), etc."
      ],
      "metadata": {
        "id": "LeOIDL-Vhd6S"
      }
    },
    {
      "cell_type": "markdown",
      "source": [
        "11. What is the purpose of the conditional statement in python ?\n",
        "- The purpose of the conditional statement in python is to allow the program to make decisions based on certain condtions. It helps to control the flow of execution by executing different code blocks depending on whether a condition is true or false. The common conditional statements are:-\n",
        "- \"if\" = Executes the code if the condition is true.\n",
        "- \"else\" = Executes the code if the condition is false.\n",
        "- \"elif\" = checks additional conditions if the previous ones were false."
      ],
      "metadata": {
        "id": "WrKI9JXAj6rg"
      }
    },
    {
      "cell_type": "markdown",
      "source": [
        "12. How does the elif statement works ?\n",
        "- The \"elif\" statement in python allows you to check multiple conditions in sequence. it follows an \"if\" statement and is used when you want to check additional conditions if the previous ones are false.\n",
        "- If the condition for \"if\" is false, python checks the condition for elif. If the \"elif\" condition is true, its block of code is executed. If it's false, python moves to next \"elif\" or executes the else block if provided.\n",
        "- For Example:-\n",
        "\n",
        "\n",
        "```\n",
        "# This is formatted as code\n",
        "x = 10\n",
        "if x > 15:\n",
        "    print(\"x is greater than 15\")\n",
        "elif x > 5:\n",
        "    print(\"x is greater than 5 but less than or equal to 15\")\n",
        "else:\n",
        "    print(\"x is 5 or less\")\n",
        "\n",
        "# Code Output = x is greater than 5 but less than or equal to 15.\n",
        "```\n",
        "\n"
      ],
      "metadata": {
        "id": "vWK5waDGluA8"
      }
    },
    {
      "cell_type": "markdown",
      "source": [
        "13.  What is the difference between \"for\" and \"while loops\" ?\n",
        "- \"For Loop\" = Used to iterate over a sequence like a list, tuple or range. It stops when the sequence ends. For Example:-\n",
        "\n",
        "```\n",
        "for i in range(5):\n",
        "    print(i)\n",
        "```\n",
        "\n",
        "- \"While Loop\" = It is used when the loop continues as long as the condition is True. And stops when the condition becomes False For example:-\n",
        "\n",
        "\n",
        "```\n",
        "# This is formatted as code\n",
        "i = 0\n",
        "while i < 5:\n",
        "    print(i)\n",
        "    i += 1\n",
        "```\n",
        "\n",
        "\n",
        "\n"
      ],
      "metadata": {
        "id": "2hnCMkNhgD3P"
      }
    },
    {
      "cell_type": "markdown",
      "source": [
        "14. Describe a scenario where a while loop is more suitable than a for loop.\n",
        "- A \"While loop\" is more suitable than a \"For loop\" in scenarios where we dont know the number of iterations in advance and the loop should continue based on the condition.\n",
        "\n",
        "- Why \"While\" is more suitable:- The number of iterations depends on user input and isnt fixed. A \"For loop\" would not work well here because it's designed for iterating over a sequence or known range."
      ],
      "metadata": {
        "id": "7udfF8knikBC"
      }
    },
    {
      "cell_type": "markdown",
      "source": [
        "# **Practical Questions**"
      ],
      "metadata": {
        "id": "QKznRAwfjvzJ"
      }
    },
    {
      "cell_type": "code",
      "source": [
        "# Question 1.\n",
        "# Write a Python program to print \"Hello, World!\"\n",
        "# Answer =\n",
        "\n",
        "print(\"Hello, World!\")\n",
        "\n"
      ],
      "metadata": {
        "colab": {
          "base_uri": "https://localhost:8080/"
        },
        "id": "wSrd8O8ZkQFc",
        "outputId": "63cfde51-8ec4-4cd4-e29a-89ee9aaf3e11"
      },
      "execution_count": null,
      "outputs": [
        {
          "output_type": "stream",
          "name": "stdout",
          "text": [
            "Hello, World!\n"
          ]
        }
      ]
    },
    {
      "cell_type": "code",
      "source": [
        "#Question 2.\n",
        "# Write a Python program that displays your name and age\n",
        "# Answer =\n",
        "\n",
        "name = \"Darshan Panchal\"\n",
        "age = 20\n",
        "\n",
        "print(\"My name is\", name)\n",
        "print(\"I am\", age, \"years old\")\n"
      ],
      "metadata": {
        "colab": {
          "base_uri": "https://localhost:8080/"
        },
        "id": "0lFFWZjSlNAs",
        "outputId": "1844173b-3f09-4959-fab8-377e295d0efa"
      },
      "execution_count": null,
      "outputs": [
        {
          "output_type": "stream",
          "name": "stdout",
          "text": [
            "My name is Darshan Panchal\n",
            "I am 20 years old\n"
          ]
        }
      ]
    },
    {
      "cell_type": "code",
      "source": [
        "#Question 3.\n",
        "# Write code to print all the pre-defined keywords in Python using the keyword library?\n",
        "# Answer =\n",
        "\n",
        "import keyword\n",
        "\n",
        "# Print all the keywords\n",
        "print(\"Python Keywords:\")\n",
        "print(keyword.kwlist)\n"
      ],
      "metadata": {
        "colab": {
          "base_uri": "https://localhost:8080/"
        },
        "id": "2q3P5-J9lfdR",
        "outputId": "3ea4befc-badb-4f0e-ffb5-ff5abd0d9b08"
      },
      "execution_count": null,
      "outputs": [
        {
          "output_type": "stream",
          "name": "stdout",
          "text": [
            "Python Keywords:\n",
            "['False', 'None', 'True', 'and', 'as', 'assert', 'async', 'await', 'break', 'class', 'continue', 'def', 'del', 'elif', 'else', 'except', 'finally', 'for', 'from', 'global', 'if', 'import', 'in', 'is', 'lambda', 'nonlocal', 'not', 'or', 'pass', 'raise', 'return', 'try', 'while', 'with', 'yield']\n"
          ]
        }
      ]
    },
    {
      "cell_type": "code",
      "source": [
        "#Question 4.\n",
        "# Write a program that checks if a given word is a Python keyword.\n",
        "# Answer =\n",
        "\n",
        "import keyword\n",
        "\n",
        "# Input word from the user\n",
        "word = input(\"Enter a word: \")\n",
        "\n",
        "# Check if the word is a Python keyword\n",
        "if keyword.iskeyword(word):\n",
        "    print(f\"'{word}' is a Python keyword.\")\n",
        "else:\n",
        "    print(f\"'{word}' is not a Python keyword.\")\n"
      ],
      "metadata": {
        "colab": {
          "base_uri": "https://localhost:8080/"
        },
        "id": "SYybcoACmZPR",
        "outputId": "a87c0252-d37c-45de-b9f5-41611fa496f0"
      },
      "execution_count": null,
      "outputs": [
        {
          "output_type": "stream",
          "name": "stdout",
          "text": [
            "Enter a word: hello\n",
            "'hello' is not a Python keyword.\n"
          ]
        }
      ]
    },
    {
      "cell_type": "code",
      "source": [
        "# Question 5.\n",
        "#  Create a list and tuple in Python, and demonstrate how attempting to change an element works differently for each.\n",
        "# Answer =\n",
        "\n",
        "my_list = [10, 20, 30]\n",
        "my_tuple = (10, 20, 30)\n",
        "\n",
        "# Modify the list\n",
        "my_list[1] = 99\n",
        "print(\"Modified List:\", my_list)\n",
        "\n",
        "# Print the tuple (no modification allowed)\n",
        "print(\"Tuple (unchanged):\", my_tuple)\n"
      ],
      "metadata": {
        "id": "67gd9geTmy_L",
        "colab": {
          "base_uri": "https://localhost:8080/"
        },
        "outputId": "7a12f30d-926b-4b2e-b1a5-9b09c8446add"
      },
      "execution_count": null,
      "outputs": [
        {
          "output_type": "stream",
          "name": "stdout",
          "text": [
            "Modified List: [10, 99, 30]\n",
            "Tuple (unchanged): (10, 20, 30)\n"
          ]
        }
      ]
    },
    {
      "cell_type": "code",
      "source": [
        "# Question 6.\n",
        "# Write a function to demonstrate the behavior of mutable and immutable arguments.\n",
        "# Answer =\n",
        "\n",
        "def demonstrate_mutability(immutable_arg, mutable_arg):\n",
        "    immutable_arg += 1\n",
        "    mutable_arg.append(99)\n",
        "    print(\"Immutable:\", immutable_arg)\n",
        "    print(\"Mutable:\", mutable_arg)\n",
        "\n",
        "# Test the function\n",
        "num = 10\n",
        "lst = [1, 2, 3]\n",
        "demonstrate_mutability(num, lst)\n",
        "\n",
        "# Outside the function\n",
        "print(\"Original Immutable:\", num)\n",
        "print(\"Original Mutable:\", lst)"
      ],
      "metadata": {
        "id": "xl_ffSPaq-Xm",
        "colab": {
          "base_uri": "https://localhost:8080/"
        },
        "outputId": "12633205-044e-4c9d-c9c7-e86ed9485545"
      },
      "execution_count": 7,
      "outputs": [
        {
          "output_type": "stream",
          "name": "stdout",
          "text": [
            "Immutable: 11\n",
            "Mutable: [1, 2, 3, 99]\n",
            "Original Immutable: 10\n",
            "Original Mutable: [1, 2, 3, 99]\n"
          ]
        }
      ]
    },
    {
      "cell_type": "code",
      "source": [
        "# Question 7.\n",
        "# Write a function to demonstrate the behavior of mutable and immutable arguments.\n",
        "# Answer =\n",
        "\n",
        "def demonstrate_mutability(immutable_arg, mutable_arg):\n",
        "    immutable_arg += 1\n",
        "    mutable_arg.append(99)\n",
        "    print(\"Immutable:\", immutable_arg)\n",
        "    print(\"Mutable:\", mutable_arg)\n",
        "\n",
        "# Test the function\n",
        "num = 10\n",
        "lst = [1, 2, 3]\n",
        "demonstrate_mutability(num, lst)\n",
        "\n",
        "# Outside the function\n",
        "print(\"Original Immutable:\", num)\n",
        "print(\"Original Mutable:\", lst)"
      ],
      "metadata": {
        "colab": {
          "base_uri": "https://localhost:8080/"
        },
        "id": "k9HB16ukuAwU",
        "outputId": "41be92cb-0776-420c-dfab-7d168b1a223e"
      },
      "execution_count": 8,
      "outputs": [
        {
          "output_type": "stream",
          "name": "stdout",
          "text": [
            "Immutable: 11\n",
            "Mutable: [1, 2, 3, 99]\n",
            "Original Immutable: 10\n",
            "Original Mutable: [1, 2, 3, 99]\n"
          ]
        }
      ]
    },
    {
      "cell_type": "code",
      "source": [
        "# Question 8.\n",
        "# Write a python program to demonstrate the use of logical operators.\n",
        "# Answer =\n",
        "\n",
        "a = True\n",
        "b = False\n",
        "\n",
        "# Logical AND\n",
        "print(a and b)\n",
        "\n",
        "# Logical OR\n",
        "print(a or b)\n",
        "\n",
        "# Logical NOT\n",
        "print(not a)"
      ],
      "metadata": {
        "colab": {
          "base_uri": "https://localhost:8080/"
        },
        "id": "1xVjGFc4uLyF",
        "outputId": "66c1ec78-8871-4d6c-b9c4-e3ed2f9a8d74"
      },
      "execution_count": 9,
      "outputs": [
        {
          "output_type": "stream",
          "name": "stdout",
          "text": [
            "False\n",
            "True\n",
            "False\n"
          ]
        }
      ]
    },
    {
      "cell_type": "code",
      "source": [
        "# Question 9.\n",
        "# Write a Python program to convert user input from string to integer, float, and boolean types.\n",
        "# Answer =\n",
        "\n",
        "user_input = input(\"Enter something: \")\n",
        "\n",
        "integer_value = int(user_input)\n",
        "float_value = float(user_input)\n",
        "boolean_value = bool(user_input)\n",
        "\n",
        "print(\"Integer:\", integer_value)\n",
        "print(\"Float:\", float_value)\n",
        "print(\"Boolean:\", boolean_value)\n"
      ],
      "metadata": {
        "colab": {
          "base_uri": "https://localhost:8080/"
        },
        "id": "yCOAOCGUuyL2",
        "outputId": "ca63825d-e6b0-49b3-b133-060f6760fb80"
      },
      "execution_count": 10,
      "outputs": [
        {
          "output_type": "stream",
          "name": "stdout",
          "text": [
            "Enter something: 21\n",
            "Integer: 21\n",
            "Float: 21.0\n",
            "Boolean: True\n"
          ]
        }
      ]
    },
    {
      "cell_type": "code",
      "source": [
        "# Question 10.\n",
        "# Write code to demonstrate type casting with list elements.\n",
        "# Answer =\n",
        "\n",
        "str_list = [\"1\", \"2\", \"3\"]\n",
        "\n",
        "int_list = list(map(int, str_list))\n",
        "\n",
        "float_list = list(map(float, str_list))\n",
        "\n",
        "print(\"Integer list:\", int_list)\n",
        "print(\"Float list:\", float_list)\n"
      ],
      "metadata": {
        "colab": {
          "base_uri": "https://localhost:8080/"
        },
        "id": "m1TwzawIvIJQ",
        "outputId": "5c822ee8-7cd9-491a-e424-731a6f733fb1"
      },
      "execution_count": 11,
      "outputs": [
        {
          "output_type": "stream",
          "name": "stdout",
          "text": [
            "Integer list: [1, 2, 3]\n",
            "Float list: [1.0, 2.0, 3.0]\n"
          ]
        }
      ]
    },
    {
      "cell_type": "code",
      "source": [
        "# Question 11.\n",
        "# Write a program that checks if a number is positive, negative, or zero.\n",
        "# Answer =\n",
        "\n",
        "num = float(input(\"Enter a number: \"))\n",
        "\n",
        "if num > 0:\n",
        "    print(\"Positive\")\n",
        "elif num < 0:\n",
        "    print(\"Negative\")\n",
        "else:\n",
        "    print(\"Zero\")\n"
      ],
      "metadata": {
        "colab": {
          "base_uri": "https://localhost:8080/"
        },
        "id": "qEZj6S5lvabQ",
        "outputId": "4b9e603b-1cca-44af-bbe0-e436306e8d90"
      },
      "execution_count": 12,
      "outputs": [
        {
          "output_type": "stream",
          "name": "stdout",
          "text": [
            "Enter a number: 122\n",
            "Positive\n"
          ]
        }
      ]
    },
    {
      "cell_type": "code",
      "source": [
        "# Question 12.\n",
        "# Write a for loop to print numbers from 1 to 100.\n",
        "# Answer =\n",
        "\n",
        "for num in range(1, 101):\n",
        "    print(num)"
      ],
      "metadata": {
        "colab": {
          "base_uri": "https://localhost:8080/"
        },
        "id": "BLwct3f1vqrH",
        "outputId": "3649bdb4-22cc-4670-e572-5eeaa1a82bd0"
      },
      "execution_count": 13,
      "outputs": [
        {
          "output_type": "stream",
          "name": "stdout",
          "text": [
            "1\n",
            "2\n",
            "3\n",
            "4\n",
            "5\n",
            "6\n",
            "7\n",
            "8\n",
            "9\n",
            "10\n",
            "11\n",
            "12\n",
            "13\n",
            "14\n",
            "15\n",
            "16\n",
            "17\n",
            "18\n",
            "19\n",
            "20\n",
            "21\n",
            "22\n",
            "23\n",
            "24\n",
            "25\n",
            "26\n",
            "27\n",
            "28\n",
            "29\n",
            "30\n",
            "31\n",
            "32\n",
            "33\n",
            "34\n",
            "35\n",
            "36\n",
            "37\n",
            "38\n",
            "39\n",
            "40\n",
            "41\n",
            "42\n",
            "43\n",
            "44\n",
            "45\n",
            "46\n",
            "47\n",
            "48\n",
            "49\n",
            "50\n",
            "51\n",
            "52\n",
            "53\n",
            "54\n",
            "55\n",
            "56\n",
            "57\n",
            "58\n",
            "59\n",
            "60\n",
            "61\n",
            "62\n",
            "63\n",
            "64\n",
            "65\n",
            "66\n",
            "67\n",
            "68\n",
            "69\n",
            "70\n",
            "71\n",
            "72\n",
            "73\n",
            "74\n",
            "75\n",
            "76\n",
            "77\n",
            "78\n",
            "79\n",
            "80\n",
            "81\n",
            "82\n",
            "83\n",
            "84\n",
            "85\n",
            "86\n",
            "87\n",
            "88\n",
            "89\n",
            "90\n",
            "91\n",
            "92\n",
            "93\n",
            "94\n",
            "95\n",
            "96\n",
            "97\n",
            "98\n",
            "99\n",
            "100\n"
          ]
        }
      ]
    },
    {
      "cell_type": "code",
      "source": [
        "# Question 13.\n",
        "# Write a Python program to find the sum of all even numbers between 1 and 500.\n",
        "# Answer =\n",
        "\n",
        "sum_even = sum(range(2, 501, 2))\n",
        "print(\"Sum of even numbers:\", sum_even)"
      ],
      "metadata": {
        "colab": {
          "base_uri": "https://localhost:8080/"
        },
        "id": "FUaU7mZkv6Ue",
        "outputId": "2ac98032-3e96-469e-9c7b-138fcaf64161"
      },
      "execution_count": 14,
      "outputs": [
        {
          "output_type": "stream",
          "name": "stdout",
          "text": [
            "Sum of even numbers: 62750\n"
          ]
        }
      ]
    },
    {
      "cell_type": "code",
      "source": [
        "# Question 14.\n",
        "# Write a program to reverse a string using a while loop.\n",
        "# Answer =\n",
        "\n",
        "string = input(\"Enter a string: \")\n",
        "reversed_string = \"\"\n",
        "i = len(string) - 1\n",
        "\n",
        "while i >= 0:\n",
        "    reversed_string += string[i]\n",
        "    i -= 1\n",
        "\n",
        "print(reversed_string)"
      ],
      "metadata": {
        "colab": {
          "base_uri": "https://localhost:8080/"
        },
        "id": "GyPMxPahwR1B",
        "outputId": "e8474267-c9e6-4775-f429-19810445dbe4"
      },
      "execution_count": 15,
      "outputs": [
        {
          "output_type": "stream",
          "name": "stdout",
          "text": [
            "Enter a string: 23\n",
            "32\n"
          ]
        }
      ]
    },
    {
      "cell_type": "code",
      "source": [
        "# Question 15.\n",
        "# Write a Python program to calculate the factorial of a number provided by the user using a while loop.\n",
        "# Answer =\n",
        "\n",
        "num = int(input(\"Enter a number: \"))\n",
        "factorial = 1\n",
        "\n",
        "while num > 1:\n",
        "    factorial *= num\n",
        "    num -= 1\n",
        "\n",
        "print(\"Factorial:\", factorial)"
      ],
      "metadata": {
        "colab": {
          "base_uri": "https://localhost:8080/"
        },
        "id": "jwCKT1dvwn3B",
        "outputId": "0688d4e8-ba36-4aac-bf6c-e3924c083e45"
      },
      "execution_count": 16,
      "outputs": [
        {
          "output_type": "stream",
          "name": "stdout",
          "text": [
            "Enter a number: 23\n",
            "Factorial: 25852016738884976640000\n"
          ]
        }
      ]
    },
    {
      "cell_type": "markdown",
      "source": [
        "# **Thank You Sir/Ma'am**"
      ],
      "metadata": {
        "id": "Oi8Vrsf7xI7x"
      }
    }
  ]
}